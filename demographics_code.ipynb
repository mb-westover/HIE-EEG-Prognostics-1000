{
 "cells": [
  {
   "cell_type": "code",
   "execution_count": 1,
   "metadata": {},
   "outputs": [],
   "source": [
    "import polars as pl"
   ]
  },
  {
   "cell_type": "code",
   "execution_count": 83,
   "metadata": {},
   "outputs": [],
   "source": [
    "df = pl.read_csv('CardiacArrestPrognos_DATA_LABELS_2025-01-07_2344.csv', schema_overrides={\n",
    "    'Date of arrest': pl.Datetime,\n",
    "    'EEG start': pl.Datetime,\n",
    "    'EEG end': pl.Datetime,\n",
    "    'Discharge Date': pl.Datetime\n",
    "})"
   ]
  },
  {
   "cell_type": "code",
   "execution_count": 105,
   "metadata": {},
   "outputs": [
    {
     "data": {
      "text/html": [
       "<div><style>\n",
       ".dataframe > thead > tr,\n",
       ".dataframe > tbody > tr {\n",
       "  text-align: right;\n",
       "  white-space: pre-wrap;\n",
       "}\n",
       "</style>\n",
       "<small>shape: (8, 21)</small><table border=\"1\" class=\"dataframe\"><thead><tr><th>Site</th><th>CPC at Discharge</th><th>Age</th><th>Male</th><th>Race American Indian/Alaska</th><th>Race Asian</th><th>Race Black/African American</th><th>Race Hispanic</th><th>Race Hawaiian</th><th>Race White</th><th>Race Mixed</th><th>Race Unknown</th><th>Ethnicity Hispanic</th><th>Ethnicity Unknown</th><th>Ethnicity Not Hispanic</th><th>Out of hospital arrest</th><th>No temperature management</th><th>Time to EEG (days)</th><th>Hospital stay (days)</th><th>Duration of EEG (days)</th><th>Total patients</th></tr><tr><td>str</td><td>str</td><td>str</td><td>str</td><td>str</td><td>str</td><td>str</td><td>str</td><td>str</td><td>str</td><td>str</td><td>str</td><td>str</td><td>str</td><td>str</td><td>u32</td><td>u32</td><td>str</td><td>str</td><td>str</td><td>u32</td></tr></thead><tbody><tr><td>&quot;BWH&quot;</td><td>&quot;dead&quot;</td><td>&quot;61.41 ± 16.75&quot;</td><td>&quot;140 (59.07)&quot;</td><td>&quot;0 (0.0)&quot;</td><td>&quot;7 (2.95)&quot;</td><td>&quot;44 (18.57)&quot;</td><td>&quot;0 (0.0)&quot;</td><td>&quot;0 (0.0)&quot;</td><td>&quot;148 (62.45)&quot;</td><td>&quot;0 (0.0)&quot;</td><td>&quot;38 (16.03)&quot;</td><td>&quot;26 (10.97)&quot;</td><td>&quot;36 (15.19)&quot;</td><td>&quot;175 (73.84)&quot;</td><td>191</td><td>0</td><td>&quot;0.75 ± 0.46&quot;</td><td>&quot;7.2 ± 8.82&quot;</td><td>&quot;2.26 ± 1.51&quot;</td><td>237</td></tr><tr><td>&quot;MGH&quot;</td><td>&quot;not dead&quot;</td><td>&quot;57.82 ± 17.17&quot;</td><td>&quot;111 (67.68)&quot;</td><td>&quot;0 (0.0)&quot;</td><td>&quot;8 (4.88)&quot;</td><td>&quot;14 (8.54)&quot;</td><td>&quot;0 (0.0)&quot;</td><td>&quot;0 (0.0)&quot;</td><td>&quot;112 (68.29)&quot;</td><td>&quot;0 (0.0)&quot;</td><td>&quot;30 (18.29)&quot;</td><td>&quot;17 (10.37)&quot;</td><td>&quot;27 (16.46)&quot;</td><td>&quot;120 (73.17)&quot;</td><td>142</td><td>6</td><td>&quot;0.75 ± 0.53&quot;</td><td>&quot;29.05 ± 97.42&quot;</td><td>&quot;2.48 ± 2.38&quot;</td><td>164</td></tr><tr><td>&quot;BIDMC&quot;</td><td>&quot;not dead&quot;</td><td>&quot;60.95 ± 15.53&quot;</td><td>&quot;26 (46.43)&quot;</td><td>&quot;0 (0.0)&quot;</td><td>&quot;0 (0.0)&quot;</td><td>&quot;3 (5.36)&quot;</td><td>&quot;0 (0.0)&quot;</td><td>&quot;0 (0.0)&quot;</td><td>&quot;11 (19.64)&quot;</td><td>&quot;0 (0.0)&quot;</td><td>&quot;42 (75.0)&quot;</td><td>&quot;0 (0.0)&quot;</td><td>&quot;45 (80.36)&quot;</td><td>&quot;11 (19.64)&quot;</td><td>43</td><td>0</td><td>&quot;0.66 ± 0.54&quot;</td><td>&quot;23.83 ± 19.5&quot;</td><td>&quot;2.48 ± 1.36&quot;</td><td>56</td></tr><tr><td>&quot;MGH&quot;</td><td>&quot;dead&quot;</td><td>&quot;58.87 ± 17.5&quot;</td><td>&quot;193 (65.2)&quot;</td><td>&quot;1 (0.34)&quot;</td><td>&quot;5 (1.69)&quot;</td><td>&quot;23 (7.77)&quot;</td><td>&quot;0 (0.0)&quot;</td><td>&quot;0 (0.0)&quot;</td><td>&quot;206 (69.59)&quot;</td><td>&quot;0 (0.0)&quot;</td><td>&quot;62 (20.95)&quot;</td><td>&quot;28 (9.46)&quot;</td><td>&quot;78 (26.35)&quot;</td><td>&quot;190 (64.19)&quot;</td><td>275</td><td>2</td><td>&quot;0.71 ± 0.47&quot;</td><td>&quot;7.37 ± 9.7&quot;</td><td>&quot;2.67 ± 2.09&quot;</td><td>296</td></tr><tr><td>&quot;BWH&quot;</td><td>&quot;not dead&quot;</td><td>&quot;57.65 ± 17.19&quot;</td><td>&quot;86 (63.24)&quot;</td><td>&quot;1 (0.74)&quot;</td><td>&quot;4 (2.94)&quot;</td><td>&quot;24 (17.65)&quot;</td><td>&quot;0 (0.0)&quot;</td><td>&quot;0 (0.0)&quot;</td><td>&quot;96 (70.59)&quot;</td><td>&quot;0 (0.0)&quot;</td><td>&quot;11 (8.09)&quot;</td><td>&quot;9 (6.62)&quot;</td><td>&quot;5 (3.68)&quot;</td><td>&quot;122 (89.71)&quot;</td><td>111</td><td>0</td><td>&quot;0.88 ± 0.49&quot;</td><td>&quot;18.59 ± 13.95&quot;</td><td>&quot;2.2 ± 1.36&quot;</td><td>136</td></tr><tr><td>&quot;BIDMC&quot;</td><td>&quot;dead&quot;</td><td>&quot;61.2 ± 17.69&quot;</td><td>&quot;35 (31.53)&quot;</td><td>&quot;0 (0.0)&quot;</td><td>&quot;0 (0.0)&quot;</td><td>&quot;7 (6.31)&quot;</td><td>&quot;0 (0.0)&quot;</td><td>&quot;0 (0.0)&quot;</td><td>&quot;23 (20.72)&quot;</td><td>&quot;0 (0.0)&quot;</td><td>&quot;81 (72.97)&quot;</td><td>&quot;2 (1.8)&quot;</td><td>&quot;84 (75.68)&quot;</td><td>&quot;25 (22.52)&quot;</td><td>87</td><td>0</td><td>&quot;0.55 ± 0.45&quot;</td><td>&quot;6.77 ± 5.94&quot;</td><td>&quot;3.17 ± 2.84&quot;</td><td>111</td></tr><tr><td>&quot;TOTAL&quot;</td><td>&quot;not dead&quot;</td><td>&quot;58.25 ± 16.92&quot;</td><td>&quot;223 (62.64)&quot;</td><td>&quot;1 (0.28)&quot;</td><td>&quot;12 (3.37)&quot;</td><td>&quot;41 (11.52)&quot;</td><td>&quot;0 (0.0)&quot;</td><td>&quot;0 (0.0)&quot;</td><td>&quot;219 (61.52)&quot;</td><td>&quot;0 (0.0)&quot;</td><td>&quot;83 (23.31)&quot;</td><td>&quot;26 (7.3)&quot;</td><td>&quot;77 (21.63)&quot;</td><td>&quot;253 (71.07)&quot;</td><td>296</td><td>6</td><td>&quot;0.79 ± 0.52&quot;</td><td>&quot;24.37 ± 68.45&quot;</td><td>&quot;2.37 ± 1.91&quot;</td><td>356</td></tr><tr><td>&quot;TOTAL&quot;</td><td>&quot;dead&quot;</td><td>&quot;60.2 ± 17.28&quot;</td><td>&quot;368 (57.14)&quot;</td><td>&quot;1 (0.16)&quot;</td><td>&quot;12 (1.86)&quot;</td><td>&quot;74 (11.49)&quot;</td><td>&quot;0 (0.0)&quot;</td><td>&quot;0 (0.0)&quot;</td><td>&quot;377 (58.54)&quot;</td><td>&quot;0 (0.0)&quot;</td><td>&quot;181 (28.11)&quot;</td><td>&quot;56 (8.7)&quot;</td><td>&quot;198 (30.75)&quot;</td><td>&quot;390 (60.56)&quot;</td><td>553</td><td>2</td><td>&quot;0.7 ± 0.47&quot;</td><td>&quot;7.22 ± 8.89&quot;</td><td>&quot;2.61 ± 2.08&quot;</td><td>644</td></tr></tbody></table></div>"
      ],
      "text/plain": [
       "shape: (8, 21)\n",
       "┌───────┬────────────┬────────────┬────────────┬───┬───────────┬───────────┬───────────┬───────────┐\n",
       "│ Site  ┆ CPC at     ┆ Age        ┆ Male       ┆ … ┆ Time to   ┆ Hospital  ┆ Duration  ┆ Total     │\n",
       "│ ---   ┆ Discharge  ┆ ---        ┆ ---        ┆   ┆ EEG       ┆ stay      ┆ of EEG    ┆ patients  │\n",
       "│ str   ┆ ---        ┆ str        ┆ str        ┆   ┆ (days)    ┆ (days)    ┆ (days)    ┆ ---       │\n",
       "│       ┆ str        ┆            ┆            ┆   ┆ ---       ┆ ---       ┆ ---       ┆ u32       │\n",
       "│       ┆            ┆            ┆            ┆   ┆ str       ┆ str       ┆ str       ┆           │\n",
       "╞═══════╪════════════╪════════════╪════════════╪═══╪═══════════╪═══════════╪═══════════╪═══════════╡\n",
       "│ BWH   ┆ dead       ┆ 61.41 ±    ┆ 140        ┆ … ┆ 0.75 ±    ┆ 7.2 ±     ┆ 2.26 ±    ┆ 237       │\n",
       "│       ┆            ┆ 16.75      ┆ (59.07)    ┆   ┆ 0.46      ┆ 8.82      ┆ 1.51      ┆           │\n",
       "│ MGH   ┆ not dead   ┆ 57.82 ±    ┆ 111        ┆ … ┆ 0.75 ±    ┆ 29.05 ±   ┆ 2.48 ±    ┆ 164       │\n",
       "│       ┆            ┆ 17.17      ┆ (67.68)    ┆   ┆ 0.53      ┆ 97.42     ┆ 2.38      ┆           │\n",
       "│ BIDMC ┆ not dead   ┆ 60.95 ±    ┆ 26 (46.43) ┆ … ┆ 0.66 ±    ┆ 23.83 ±   ┆ 2.48 ±    ┆ 56        │\n",
       "│       ┆            ┆ 15.53      ┆            ┆   ┆ 0.54      ┆ 19.5      ┆ 1.36      ┆           │\n",
       "│ MGH   ┆ dead       ┆ 58.87 ±    ┆ 193 (65.2) ┆ … ┆ 0.71 ±    ┆ 7.37 ±    ┆ 2.67 ±    ┆ 296       │\n",
       "│       ┆            ┆ 17.5       ┆            ┆   ┆ 0.47      ┆ 9.7       ┆ 2.09      ┆           │\n",
       "│ BWH   ┆ not dead   ┆ 57.65 ±    ┆ 86 (63.24) ┆ … ┆ 0.88 ±    ┆ 18.59 ±   ┆ 2.2 ±     ┆ 136       │\n",
       "│       ┆            ┆ 17.19      ┆            ┆   ┆ 0.49      ┆ 13.95     ┆ 1.36      ┆           │\n",
       "│ BIDMC ┆ dead       ┆ 61.2 ±     ┆ 35 (31.53) ┆ … ┆ 0.55 ±    ┆ 6.77 ±    ┆ 3.17 ±    ┆ 111       │\n",
       "│       ┆            ┆ 17.69      ┆            ┆   ┆ 0.45      ┆ 5.94      ┆ 2.84      ┆           │\n",
       "│ TOTAL ┆ not dead   ┆ 58.25 ±    ┆ 223        ┆ … ┆ 0.79 ±    ┆ 24.37 ±   ┆ 2.37 ±    ┆ 356       │\n",
       "│       ┆            ┆ 16.92      ┆ (62.64)    ┆   ┆ 0.52      ┆ 68.45     ┆ 1.91      ┆           │\n",
       "│ TOTAL ┆ dead       ┆ 60.2 ±     ┆ 368        ┆ … ┆ 0.7 ±     ┆ 7.22 ±    ┆ 2.61 ±    ┆ 644       │\n",
       "│       ┆            ┆ 17.28      ┆ (57.14)    ┆   ┆ 0.47      ┆ 8.89      ┆ 2.08      ┆           │\n",
       "└───────┴────────────┴────────────┴────────────┴───┴───────────┴───────────┴───────────┴───────────┘"
      ]
     },
     "metadata": {},
     "output_type": "display_data"
    }
   ],
   "source": [
    "final = pl.concat([\n",
    "    df.group_by(['Site', 'CPC at Discharge']).agg([\n",
    "        pl.col('Age').mean().round(2).cast(pl.String) + ' ± ' + pl.col('Age').std().round(2).cast(pl.String).alias('Age'),\n",
    "        ((pl.col('Gender') == 'Male').sum().cast(pl.String) + ' (' + ((pl.col('Gender') == 'Male').sum() / pl.len() * 100).round(2).cast(pl.String) + ')').alias('Male')] +\n",
    "        [\n",
    "            ((pl.col(x) == 'Checked').sum().cast(pl.String) + ' (' + ((pl.col(x) == 'Checked').sum() / pl.len() * 100).round(2).cast(pl.String) + ')').alias(x.replace('(choice=', '').replace(')', '')) for x in df.columns if x.startswith('Race')\n",
    "        ] +\n",
    "        [\n",
    "            ((pl.col('Ethnicity') == val).sum().cast(pl.String) + ' (' + ((pl.col('Ethnicity') == val).sum() / pl.len() * 100).round(2).cast(pl.String) + ')').alias('Ethnicity ' + val) for val in df['Ethnicity'].unique()\n",
    "        ] +\n",
    "        [\n",
    "            (pl.col('out of hospital arrest includes arrest in a rehab facility or SNF') == 'Yes').sum().alias('Out of hospital arrest'),\n",
    "            (pl.col('Temperature') == 'No Temperature Management').sum().alias('No temperature management'),\n",
    "            (((pl.col('EEG start') - pl.col('Date of arrest')).filter(pl.col('out of hospital arrest includes arrest in a rehab facility or SNF') == 'Yes').mean() / pl.duration(days=1)).round(2).cast(pl.String) + ' ± ' + \n",
    "                ((pl.col('EEG start') - pl.col('Date of arrest')).filter(pl.col('out of hospital arrest includes arrest in a rehab facility or SNF') == 'Yes').std() / pl.duration(days=1)).round(2).cast(pl.String)).alias('Time to EEG (days)'),\n",
    "            (((pl.col('Discharge Date') - pl.col('Date of arrest')).filter(pl.col('out of hospital arrest includes arrest in a rehab facility or SNF') == 'Yes').mean() / pl.duration(days=1)).round(2).cast(pl.String) + ' ± ' + \n",
    "                ((pl.col('Discharge Date') - pl.col('Date of arrest')).filter(pl.col('out of hospital arrest includes arrest in a rehab facility or SNF') == 'Yes').std() / pl.duration(days=1)).round(2).cast(pl.String)).alias('Hospital stay (days)'),\n",
    "            (((pl.col('EEG end') - pl.col('EEG start')).filter(pl.col('out of hospital arrest includes arrest in a rehab facility or SNF') == 'Yes').mean() / pl.duration(days=1)).round(2).cast(pl.String) + ' ± ' + \n",
    "                ((pl.col('EEG end') - pl.col('EEG start')).filter(pl.col('out of hospital arrest includes arrest in a rehab facility or SNF') == 'Yes').std() / pl.duration(days=1)).round(2).cast(pl.String)).alias('Duration of EEG (days)'),\n",
    "            pl.len().alias('Total patients')\n",
    "        ]\n",
    "    ),\n",
    "\n",
    "    df.group_by('CPC at Discharge').agg([\n",
    "        pl.lit('TOTAL').alias('Site'),\n",
    "        pl.col('Age').mean().round(2).cast(pl.String) + ' ± ' + pl.col('Age').std().round(2).cast(pl.String).alias('Age'),\n",
    "        ((pl.col('Gender') == 'Male').sum().cast(pl.String) + ' (' + ((pl.col('Gender') == 'Male').sum() / pl.len() * 100).round(2).cast(pl.String) + ')').alias('Male')] +\n",
    "        [\n",
    "            ((pl.col(x) == 'Checked').sum().cast(pl.String) + ' (' + ((pl.col(x) == 'Checked').sum() / pl.len() * 100).round(2).cast(pl.String) + ')').alias(x.replace('(choice=', '').replace(')', '')) for x in df.columns if x.startswith('Race')\n",
    "        ] +\n",
    "        [\n",
    "            ((pl.col('Ethnicity') == val).sum().cast(pl.String) + ' (' + ((pl.col('Ethnicity') == val).sum() / pl.len() * 100).round(2).cast(pl.String) + ')').alias('Ethnicity ' + val) for val in df['Ethnicity'].unique()\n",
    "        ] +\n",
    "        [\n",
    "            (pl.col('out of hospital arrest includes arrest in a rehab facility or SNF') == 'Yes').sum().alias('Out of hospital arrest'),\n",
    "            (pl.col('Temperature') == 'No Temperature Management').sum().alias('No temperature management'),\n",
    "            (((pl.col('EEG start') - pl.col('Date of arrest')).filter(pl.col('out of hospital arrest includes arrest in a rehab facility or SNF') == 'Yes').mean() / pl.duration(days=1)).round(2).cast(pl.String) + ' ± ' + \n",
    "                ((pl.col('EEG start') - pl.col('Date of arrest')).filter(pl.col('out of hospital arrest includes arrest in a rehab facility or SNF') == 'Yes').std() / pl.duration(days=1)).round(2).cast(pl.String)).alias('Time to EEG (days)'),\n",
    "            (((pl.col('Discharge Date') - pl.col('Date of arrest')).filter(pl.col('out of hospital arrest includes arrest in a rehab facility or SNF') == 'Yes').mean() / pl.duration(days=1)).round(2).cast(pl.String) + ' ± ' + \n",
    "                ((pl.col('Discharge Date') - pl.col('Date of arrest')).filter(pl.col('out of hospital arrest includes arrest in a rehab facility or SNF') == 'Yes').std() / pl.duration(days=1)).round(2).cast(pl.String)).alias('Hospital stay (days)'),\n",
    "            (((pl.col('EEG end') - pl.col('EEG start')).filter(pl.col('out of hospital arrest includes arrest in a rehab facility or SNF') == 'Yes').mean() / pl.duration(days=1)).round(2).cast(pl.String) + ' ± ' + \n",
    "                ((pl.col('EEG end') - pl.col('EEG start')).filter(pl.col('out of hospital arrest includes arrest in a rehab facility or SNF') == 'Yes').std() / pl.duration(days=1)).round(2).cast(pl.String)).alias('Duration of EEG (days)'),\n",
    "            pl.len().alias('Total patients')\n",
    "    ])\n",
    "], how='diagonal')\n",
    "display(final)\n",
    "final.write_csv('demographics_table.csv')"
   ]
  },
  {
   "cell_type": "markdown",
   "metadata": {},
   "source": [
    "## error records"
   ]
  },
  {
   "cell_type": "code",
   "execution_count": 106,
   "metadata": {},
   "outputs": [
    {
     "name": "stdout",
     "output_type": "stream",
     "text": [
      "ERROR: late arrest (after EEG start)\n"
     ]
    },
    {
     "data": {
      "text/html": [
       "<div><style>\n",
       ".dataframe > thead > tr,\n",
       ".dataframe > tbody > tr {\n",
       "  text-align: right;\n",
       "  white-space: pre-wrap;\n",
       "}\n",
       "</style>\n",
       "<small>shape: (0, 196)</small><table border=\"1\" class=\"dataframe\"><thead><tr><th>Record ID</th><th>Site</th><th>BDSP Patient ID</th><th>Gender</th><th>Age</th><th>MRN (IDENTIFIER)</th><th>Lastname (IDENTIFIER)</th><th>Firstname (IDENTIFIER)</th><th>DOB (IDENTIFIER)</th><th>Race (choice=American Indian/Alaska)</th><th>Race (choice=Asian)</th><th>Race (choice=Black/African American)</th><th>Race (choice=Hispanic)</th><th>Race (choice=Hawaiian)</th><th>Race (choice=White)</th><th>Race (choice=Mixed)</th><th>Race (choice=Unknown)</th><th>Ethnicity</th><th>Complete?</th><th>Date of arrest</th><th>Cardiac Arrest (no circulation)</th><th>out of hospital arrest includes arrest in a rehab facility or SNF</th><th>Cardiac arrest witnessed?</th><th>Assisted Ventilation</th><th>Temperature</th><th>Complete?_duplicated_0</th><th>EEG performed</th><th>EEG start</th><th>EEG end</th><th>Total hours on EEG</th><th>best background (choice=delta)</th><th>best background (choice=theta)</th><th>best background (choice=alpha)</th><th>All EEG patterns in   the 24 hours EEG (choice=Discontinuous EEG)</th><th>All EEG patterns in   the 24 hours EEG (choice=EEG reactivity)</th><th>All EEG patterns in   the 24 hours EEG (choice=Background anytime attenuated 10-20 uV)</th><th>All EEG patterns in   the 24 hours EEG (choice=Background anytime suppressed &lt; 10 uV)</th><th>&hellip;</th><th>All EEG patterns in   the rest of EEG (choice=Burst suppression with highly epileptiform bursts)</th><th>All EEG patterns in   the rest of EEG (choice=Seizure)</th><th>All EEG patterns in   the rest of EEG (choice=Status epilepticus)</th><th>All EEG patterns in   the rest of EEG (choice=Myoclonic Status epilepticus (time-locked myoclonus and epileptiform discharges))</th><th>All EEG patterns in   the rest of EEG (choice=GPD)</th><th>All EEG patterns in   the rest of EEG (choice=LPD)</th><th>All EEG patterns in   the rest of EEG (choice=LRDA)</th><th>All EEG patterns in   the rest of EEG (choice=GRDA)</th><th>All EEG patterns in   the rest of EEG (choice=SED)</th><th>All EEG patterns in   the rest of EEG (choice=SIRPDs)</th><th>All EEG patterns in   the rest of EEG (choice=BIRDs)</th><th>All EEG patterns in   the rest of EEG (choice=Diffuse voltage suppression)</th><th>All EEG patterns in   the rest of EEG (choice=BIPD)</th><th>All EEG patterns in   the rest of EEG (choice=Absent EEG reactivity)</th><th>Antiepileptic drugs[73 hrs to rest of EEG] (choice=Levetiracetam)</th><th>Antiepileptic drugs[73 hrs to rest of EEG] (choice=Phenytoin-fosphenytoin)</th><th>Antiepileptic drugs[73 hrs to rest of EEG] (choice=Valproic acid)</th><th>Antiepileptic drugs[73 hrs to rest of EEG] (choice=Lacosamide)</th><th>Antiepileptic drugs[73 hrs to rest of EEG] (choice=Clonazepam)</th><th>Antiepileptic drugs[73 hrs to rest of EEG] (choice=Lorazepam)</th><th>Antiepileptic drugs[73 hrs to rest of EEG] (choice=Lamotrigine)</th><th>Antiepileptic drugs[73 hrs to rest of EEG] (choice=Clobazam)</th><th>Antiepileptic drugs[73 hrs to rest of EEG] (choice=Phenobarbital)</th><th>Antiepileptic drugs[73 hrs to rest of EEG] (choice=Other)</th><th>Other anti-epileptic drugs_duplicated_2</th><th>Anesthetic[73hrs-rest of EEG] (choice=Propofol)</th><th>Anesthetic[73hrs-rest of EEG] (choice=Midazolam)</th><th>Anesthetic[73hrs-rest of EEG] (choice=Fentanyl)</th><th>Anesthetic[73hrs-rest of EEG] (choice=Dexmedetomidine)</th><th>Anesthetic[73hrs-rest of EEG] (choice=Other)</th><th>Other anesthetic drugs_duplicated_2</th><th>Complete?_duplicated_1</th><th>Discharge Date</th><th>CPC at Discharge</th><th>Time of Death</th><th>Complete?_duplicated_2</th><th>time_to_eeg</th></tr><tr><td>i64</td><td>str</td><td>i32</td><td>str</td><td>i64</td><td>str</td><td>str</td><td>str</td><td>str</td><td>str</td><td>str</td><td>str</td><td>str</td><td>str</td><td>str</td><td>str</td><td>str</td><td>str</td><td>str</td><td>datetime[μs]</td><td>str</td><td>str</td><td>str</td><td>str</td><td>str</td><td>str</td><td>str</td><td>datetime[μs]</td><td>datetime[μs]</td><td>f64</td><td>str</td><td>str</td><td>str</td><td>str</td><td>str</td><td>str</td><td>str</td><td>&hellip;</td><td>str</td><td>str</td><td>str</td><td>str</td><td>str</td><td>str</td><td>str</td><td>str</td><td>str</td><td>str</td><td>str</td><td>str</td><td>str</td><td>str</td><td>str</td><td>str</td><td>str</td><td>str</td><td>str</td><td>str</td><td>str</td><td>str</td><td>str</td><td>str</td><td>str</td><td>str</td><td>str</td><td>str</td><td>str</td><td>str</td><td>str</td><td>str</td><td>datetime[μs]</td><td>str</td><td>str</td><td>str</td><td>duration[μs]</td></tr></thead><tbody></tbody></table></div>"
      ],
      "text/plain": [
       "shape: (0, 196)\n",
       "┌───────────┬──────┬──────────────┬────────┬───┬─────────────┬─────────┬─────────────┬─────────────┐\n",
       "│ Record ID ┆ Site ┆ BDSP Patient ┆ Gender ┆ … ┆ CPC at      ┆ Time of ┆ Complete?_d ┆ time_to_eeg │\n",
       "│ ---       ┆ ---  ┆ ID           ┆ ---    ┆   ┆ Discharge   ┆ Death   ┆ uplicated_2 ┆ ---         │\n",
       "│ i64       ┆ str  ┆ ---          ┆ str    ┆   ┆ ---         ┆ ---     ┆ ---         ┆ duration[μs │\n",
       "│           ┆      ┆ i32          ┆        ┆   ┆ str         ┆ str     ┆ str         ┆ ]           │\n",
       "╞═══════════╪══════╪══════════════╪════════╪═══╪═════════════╪═════════╪═════════════╪═════════════╡\n",
       "└───────────┴──────┴──────────────┴────────┴───┴─────────────┴─────────┴─────────────┴─────────────┘"
      ]
     },
     "metadata": {},
     "output_type": "display_data"
    },
    {
     "name": "stdout",
     "output_type": "stream",
     "text": [
      "ERROR: delayed EEG\n"
     ]
    },
    {
     "data": {
      "text/html": [
       "<div><style>\n",
       ".dataframe > thead > tr,\n",
       ".dataframe > tbody > tr {\n",
       "  text-align: right;\n",
       "  white-space: pre-wrap;\n",
       "}\n",
       "</style>\n",
       "<small>shape: (0, 196)</small><table border=\"1\" class=\"dataframe\"><thead><tr><th>Record ID</th><th>Site</th><th>BDSP Patient ID</th><th>Gender</th><th>Age</th><th>MRN (IDENTIFIER)</th><th>Lastname (IDENTIFIER)</th><th>Firstname (IDENTIFIER)</th><th>DOB (IDENTIFIER)</th><th>Race (choice=American Indian/Alaska)</th><th>Race (choice=Asian)</th><th>Race (choice=Black/African American)</th><th>Race (choice=Hispanic)</th><th>Race (choice=Hawaiian)</th><th>Race (choice=White)</th><th>Race (choice=Mixed)</th><th>Race (choice=Unknown)</th><th>Ethnicity</th><th>Complete?</th><th>Date of arrest</th><th>Cardiac Arrest (no circulation)</th><th>out of hospital arrest includes arrest in a rehab facility or SNF</th><th>Cardiac arrest witnessed?</th><th>Assisted Ventilation</th><th>Temperature</th><th>Complete?_duplicated_0</th><th>EEG performed</th><th>EEG start</th><th>EEG end</th><th>Total hours on EEG</th><th>best background (choice=delta)</th><th>best background (choice=theta)</th><th>best background (choice=alpha)</th><th>All EEG patterns in   the 24 hours EEG (choice=Discontinuous EEG)</th><th>All EEG patterns in   the 24 hours EEG (choice=EEG reactivity)</th><th>All EEG patterns in   the 24 hours EEG (choice=Background anytime attenuated 10-20 uV)</th><th>All EEG patterns in   the 24 hours EEG (choice=Background anytime suppressed &lt; 10 uV)</th><th>&hellip;</th><th>All EEG patterns in   the rest of EEG (choice=Burst suppression with highly epileptiform bursts)</th><th>All EEG patterns in   the rest of EEG (choice=Seizure)</th><th>All EEG patterns in   the rest of EEG (choice=Status epilepticus)</th><th>All EEG patterns in   the rest of EEG (choice=Myoclonic Status epilepticus (time-locked myoclonus and epileptiform discharges))</th><th>All EEG patterns in   the rest of EEG (choice=GPD)</th><th>All EEG patterns in   the rest of EEG (choice=LPD)</th><th>All EEG patterns in   the rest of EEG (choice=LRDA)</th><th>All EEG patterns in   the rest of EEG (choice=GRDA)</th><th>All EEG patterns in   the rest of EEG (choice=SED)</th><th>All EEG patterns in   the rest of EEG (choice=SIRPDs)</th><th>All EEG patterns in   the rest of EEG (choice=BIRDs)</th><th>All EEG patterns in   the rest of EEG (choice=Diffuse voltage suppression)</th><th>All EEG patterns in   the rest of EEG (choice=BIPD)</th><th>All EEG patterns in   the rest of EEG (choice=Absent EEG reactivity)</th><th>Antiepileptic drugs[73 hrs to rest of EEG] (choice=Levetiracetam)</th><th>Antiepileptic drugs[73 hrs to rest of EEG] (choice=Phenytoin-fosphenytoin)</th><th>Antiepileptic drugs[73 hrs to rest of EEG] (choice=Valproic acid)</th><th>Antiepileptic drugs[73 hrs to rest of EEG] (choice=Lacosamide)</th><th>Antiepileptic drugs[73 hrs to rest of EEG] (choice=Clonazepam)</th><th>Antiepileptic drugs[73 hrs to rest of EEG] (choice=Lorazepam)</th><th>Antiepileptic drugs[73 hrs to rest of EEG] (choice=Lamotrigine)</th><th>Antiepileptic drugs[73 hrs to rest of EEG] (choice=Clobazam)</th><th>Antiepileptic drugs[73 hrs to rest of EEG] (choice=Phenobarbital)</th><th>Antiepileptic drugs[73 hrs to rest of EEG] (choice=Other)</th><th>Other anti-epileptic drugs_duplicated_2</th><th>Anesthetic[73hrs-rest of EEG] (choice=Propofol)</th><th>Anesthetic[73hrs-rest of EEG] (choice=Midazolam)</th><th>Anesthetic[73hrs-rest of EEG] (choice=Fentanyl)</th><th>Anesthetic[73hrs-rest of EEG] (choice=Dexmedetomidine)</th><th>Anesthetic[73hrs-rest of EEG] (choice=Other)</th><th>Other anesthetic drugs_duplicated_2</th><th>Complete?_duplicated_1</th><th>Discharge Date</th><th>CPC at Discharge</th><th>Time of Death</th><th>Complete?_duplicated_2</th><th>time_to_eeg</th></tr><tr><td>i64</td><td>str</td><td>i32</td><td>str</td><td>i64</td><td>str</td><td>str</td><td>str</td><td>str</td><td>str</td><td>str</td><td>str</td><td>str</td><td>str</td><td>str</td><td>str</td><td>str</td><td>str</td><td>str</td><td>datetime[μs]</td><td>str</td><td>str</td><td>str</td><td>str</td><td>str</td><td>str</td><td>str</td><td>datetime[μs]</td><td>datetime[μs]</td><td>f64</td><td>str</td><td>str</td><td>str</td><td>str</td><td>str</td><td>str</td><td>str</td><td>&hellip;</td><td>str</td><td>str</td><td>str</td><td>str</td><td>str</td><td>str</td><td>str</td><td>str</td><td>str</td><td>str</td><td>str</td><td>str</td><td>str</td><td>str</td><td>str</td><td>str</td><td>str</td><td>str</td><td>str</td><td>str</td><td>str</td><td>str</td><td>str</td><td>str</td><td>str</td><td>str</td><td>str</td><td>str</td><td>str</td><td>str</td><td>str</td><td>str</td><td>datetime[μs]</td><td>str</td><td>str</td><td>str</td><td>duration[μs]</td></tr></thead><tbody></tbody></table></div>"
      ],
      "text/plain": [
       "shape: (0, 196)\n",
       "┌───────────┬──────┬──────────────┬────────┬───┬─────────────┬─────────┬─────────────┬─────────────┐\n",
       "│ Record ID ┆ Site ┆ BDSP Patient ┆ Gender ┆ … ┆ CPC at      ┆ Time of ┆ Complete?_d ┆ time_to_eeg │\n",
       "│ ---       ┆ ---  ┆ ID           ┆ ---    ┆   ┆ Discharge   ┆ Death   ┆ uplicated_2 ┆ ---         │\n",
       "│ i64       ┆ str  ┆ ---          ┆ str    ┆   ┆ ---         ┆ ---     ┆ ---         ┆ duration[μs │\n",
       "│           ┆      ┆ i32          ┆        ┆   ┆ str         ┆ str     ┆ str         ┆ ]           │\n",
       "╞═══════════╪══════╪══════════════╪════════╪═══╪═════════════╪═════════╪═════════════╪═════════════╡\n",
       "└───────────┴──────┴──────────────┴────────┴───┴─────────────┴─────────┴─────────────┴─────────────┘"
      ]
     },
     "metadata": {},
     "output_type": "display_data"
    }
   ],
   "source": [
    "err_records = set()\n",
    "err_late_arrest = df.filter(\n",
    "    pl.col('out of hospital arrest includes arrest in a rehab facility or SNF') == 'Yes'\n",
    ").with_columns(\n",
    "    pl.col('BDSP Patient ID').cast(pl.Int32),\n",
    "    (pl.col('EEG start') - pl.col('Date of arrest')).alias('time_to_eeg')\n",
    ").filter(\n",
    "    pl.col('time_to_eeg') < 0\n",
    ")\n",
    "print('ERROR: late arrest (after EEG start)')\n",
    "display(err_late_arrest)\n",
    "err_records.update(err_late_arrest['Record ID'].unique())\n",
    "err_delayed_eeg = df.filter(\n",
    "    pl.col('out of hospital arrest includes arrest in a rehab facility or SNF') == 'Yes'\n",
    ").with_columns(\n",
    "    pl.col('BDSP Patient ID').cast(pl.Int32),\n",
    "    (pl.col('EEG start') - pl.col('Date of arrest')).alias('time_to_eeg')\n",
    ").filter(\n",
    "    pl.col('time_to_eeg') > pl.duration(days=3)\n",
    ")\n",
    "print('ERROR: delayed EEG')\n",
    "display(err_delayed_eeg)\n",
    "err_records.update(err_delayed_eeg['Record ID'].unique())"
   ]
  }
 ],
 "metadata": {
  "kernelspec": {
   "display_name": "playground",
   "language": "python",
   "name": "python3"
  },
  "language_info": {
   "codemirror_mode": {
    "name": "ipython",
    "version": 3
   },
   "file_extension": ".py",
   "mimetype": "text/x-python",
   "name": "python",
   "nbconvert_exporter": "python",
   "pygments_lexer": "ipython3",
   "version": "3.11.10"
  }
 },
 "nbformat": 4,
 "nbformat_minor": 2
}
